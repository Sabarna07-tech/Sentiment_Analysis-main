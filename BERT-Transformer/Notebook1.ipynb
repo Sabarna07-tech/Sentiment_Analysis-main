{
 "cells": [
  {
   "cell_type": "code",
   "execution_count": 1,
   "id": "9215c745",
   "metadata": {},
   "outputs": [],
   "source": [
    "import pandas as pd"
   ]
  },
  {
   "cell_type": "code",
   "execution_count": 2,
   "id": "40b2e274",
   "metadata": {},
   "outputs": [
    {
     "data": {
      "text/html": [
       "<div>\n",
       "<style scoped>\n",
       "    .dataframe tbody tr th:only-of-type {\n",
       "        vertical-align: middle;\n",
       "    }\n",
       "\n",
       "    .dataframe tbody tr th {\n",
       "        vertical-align: top;\n",
       "    }\n",
       "\n",
       "    .dataframe thead th {\n",
       "        text-align: right;\n",
       "    }\n",
       "</style>\n",
       "<table border=\"1\" class=\"dataframe\">\n",
       "  <thead>\n",
       "    <tr style=\"text-align: right;\">\n",
       "      <th></th>\n",
       "      <th>Unnamed: 0</th>\n",
       "      <th>Text</th>\n",
       "      <th>label</th>\n",
       "    </tr>\n",
       "  </thead>\n",
       "  <tbody>\n",
       "    <tr>\n",
       "      <th>0</th>\n",
       "      <td>0</td>\n",
       "      <td>I can't shake off this constant sense of hopel...</td>\n",
       "      <td>Depression</td>\n",
       "    </tr>\n",
       "    <tr>\n",
       "      <th>1</th>\n",
       "      <td>1</td>\n",
       "      <td>I'm constantly second-guessing myself and my d...</td>\n",
       "      <td>Anxiety Disorder</td>\n",
       "    </tr>\n",
       "    <tr>\n",
       "      <th>2</th>\n",
       "      <td>2</td>\n",
       "      <td>I'm feeling physically unwell, but I know it's...</td>\n",
       "      <td>Depression</td>\n",
       "    </tr>\n",
       "    <tr>\n",
       "      <th>3</th>\n",
       "      <td>3</td>\n",
       "      <td>I'm desperate to escape the overwhelming fear.</td>\n",
       "      <td>Panic Disorder</td>\n",
       "    </tr>\n",
       "    <tr>\n",
       "      <th>4</th>\n",
       "      <td>4</td>\n",
       "      <td>It's hard to describe the sensation of being t...</td>\n",
       "      <td>Panic Disorder</td>\n",
       "    </tr>\n",
       "    <tr>\n",
       "      <th>...</th>\n",
       "      <td>...</td>\n",
       "      <td>...</td>\n",
       "      <td>...</td>\n",
       "    </tr>\n",
       "    <tr>\n",
       "      <th>780</th>\n",
       "      <td>780</td>\n",
       "      <td>I'm not good enough for anything.</td>\n",
       "      <td>Depression</td>\n",
       "    </tr>\n",
       "    <tr>\n",
       "      <th>781</th>\n",
       "      <td>781</td>\n",
       "      <td>Feeling like I'm a trailblazer, forging a path...</td>\n",
       "      <td>Narcissistic Disorder</td>\n",
       "    </tr>\n",
       "    <tr>\n",
       "      <th>782</th>\n",
       "      <td>782</td>\n",
       "      <td>Trying to maintain my self-assuredness without...</td>\n",
       "      <td>Narcissistic Disorder</td>\n",
       "    </tr>\n",
       "    <tr>\n",
       "      <th>783</th>\n",
       "      <td>783</td>\n",
       "      <td>Feeling like I have the potential to influence...</td>\n",
       "      <td>Narcissistic Disorder</td>\n",
       "    </tr>\n",
       "    <tr>\n",
       "      <th>784</th>\n",
       "      <td>784</td>\n",
       "      <td>I'm convinced people are judging me during a p...</td>\n",
       "      <td>Panic Disorder</td>\n",
       "    </tr>\n",
       "  </tbody>\n",
       "</table>\n",
       "<p>785 rows × 3 columns</p>\n",
       "</div>"
      ],
      "text/plain": [
       "     Unnamed: 0                                               Text   \n",
       "0             0  I can't shake off this constant sense of hopel...  \\\n",
       "1             1  I'm constantly second-guessing myself and my d...   \n",
       "2             2  I'm feeling physically unwell, but I know it's...   \n",
       "3             3     I'm desperate to escape the overwhelming fear.   \n",
       "4             4  It's hard to describe the sensation of being t...   \n",
       "..          ...                                                ...   \n",
       "780         780                  I'm not good enough for anything.   \n",
       "781         781  Feeling like I'm a trailblazer, forging a path...   \n",
       "782         782  Trying to maintain my self-assuredness without...   \n",
       "783         783  Feeling like I have the potential to influence...   \n",
       "784         784  I'm convinced people are judging me during a p...   \n",
       "\n",
       "                     label  \n",
       "0               Depression  \n",
       "1         Anxiety Disorder  \n",
       "2               Depression  \n",
       "3           Panic Disorder  \n",
       "4           Panic Disorder  \n",
       "..                     ...  \n",
       "780             Depression  \n",
       "781  Narcissistic Disorder  \n",
       "782  Narcissistic Disorder  \n",
       "783  Narcissistic Disorder  \n",
       "784         Panic Disorder  \n",
       "\n",
       "[785 rows x 3 columns]"
      ]
     },
     "execution_count": 2,
     "metadata": {},
     "output_type": "execute_result"
    }
   ],
   "source": [
    "df = pd.read_csv(\"train.csv\")\n",
    "df"
   ]
  },
  {
   "cell_type": "code",
   "execution_count": 3,
   "id": "7ced39f4",
   "metadata": {},
   "outputs": [
    {
     "data": {
      "text/html": [
       "<div>\n",
       "<style scoped>\n",
       "    .dataframe tbody tr th:only-of-type {\n",
       "        vertical-align: middle;\n",
       "    }\n",
       "\n",
       "    .dataframe tbody tr th {\n",
       "        vertical-align: top;\n",
       "    }\n",
       "\n",
       "    .dataframe thead th {\n",
       "        text-align: right;\n",
       "    }\n",
       "</style>\n",
       "<table border=\"1\" class=\"dataframe\">\n",
       "  <thead>\n",
       "    <tr style=\"text-align: right;\">\n",
       "      <th></th>\n",
       "      <th>Text</th>\n",
       "      <th>label</th>\n",
       "    </tr>\n",
       "  </thead>\n",
       "  <tbody>\n",
       "    <tr>\n",
       "      <th>0</th>\n",
       "      <td>I can't shake off this constant sense of hopel...</td>\n",
       "      <td>Depression</td>\n",
       "    </tr>\n",
       "    <tr>\n",
       "      <th>1</th>\n",
       "      <td>I'm constantly second-guessing myself and my d...</td>\n",
       "      <td>Anxiety Disorder</td>\n",
       "    </tr>\n",
       "    <tr>\n",
       "      <th>2</th>\n",
       "      <td>I'm feeling physically unwell, but I know it's...</td>\n",
       "      <td>Depression</td>\n",
       "    </tr>\n",
       "    <tr>\n",
       "      <th>3</th>\n",
       "      <td>I'm desperate to escape the overwhelming fear.</td>\n",
       "      <td>Panic Disorder</td>\n",
       "    </tr>\n",
       "    <tr>\n",
       "      <th>4</th>\n",
       "      <td>It's hard to describe the sensation of being t...</td>\n",
       "      <td>Panic Disorder</td>\n",
       "    </tr>\n",
       "    <tr>\n",
       "      <th>...</th>\n",
       "      <td>...</td>\n",
       "      <td>...</td>\n",
       "    </tr>\n",
       "    <tr>\n",
       "      <th>780</th>\n",
       "      <td>I'm not good enough for anything.</td>\n",
       "      <td>Depression</td>\n",
       "    </tr>\n",
       "    <tr>\n",
       "      <th>781</th>\n",
       "      <td>Feeling like I'm a trailblazer, forging a path...</td>\n",
       "      <td>Narcissistic Disorder</td>\n",
       "    </tr>\n",
       "    <tr>\n",
       "      <th>782</th>\n",
       "      <td>Trying to maintain my self-assuredness without...</td>\n",
       "      <td>Narcissistic Disorder</td>\n",
       "    </tr>\n",
       "    <tr>\n",
       "      <th>783</th>\n",
       "      <td>Feeling like I have the potential to influence...</td>\n",
       "      <td>Narcissistic Disorder</td>\n",
       "    </tr>\n",
       "    <tr>\n",
       "      <th>784</th>\n",
       "      <td>I'm convinced people are judging me during a p...</td>\n",
       "      <td>Panic Disorder</td>\n",
       "    </tr>\n",
       "  </tbody>\n",
       "</table>\n",
       "<p>785 rows × 2 columns</p>\n",
       "</div>"
      ],
      "text/plain": [
       "                                                  Text                  label\n",
       "0    I can't shake off this constant sense of hopel...             Depression\n",
       "1    I'm constantly second-guessing myself and my d...       Anxiety Disorder\n",
       "2    I'm feeling physically unwell, but I know it's...             Depression\n",
       "3       I'm desperate to escape the overwhelming fear.         Panic Disorder\n",
       "4    It's hard to describe the sensation of being t...         Panic Disorder\n",
       "..                                                 ...                    ...\n",
       "780                  I'm not good enough for anything.             Depression\n",
       "781  Feeling like I'm a trailblazer, forging a path...  Narcissistic Disorder\n",
       "782  Trying to maintain my self-assuredness without...  Narcissistic Disorder\n",
       "783  Feeling like I have the potential to influence...  Narcissistic Disorder\n",
       "784  I'm convinced people are judging me during a p...         Panic Disorder\n",
       "\n",
       "[785 rows x 2 columns]"
      ]
     },
     "execution_count": 3,
     "metadata": {},
     "output_type": "execute_result"
    }
   ],
   "source": [
    "df.drop(['Unnamed: 0'],axis=1,inplace=True)\n",
    "df"
   ]
  },
  {
   "cell_type": "code",
   "execution_count": 4,
   "id": "73f678bc",
   "metadata": {},
   "outputs": [],
   "source": [
    "Label = list(df.label.unique())"
   ]
  },
  {
   "cell_type": "code",
   "execution_count": 5,
   "id": "7556baa9",
   "metadata": {},
   "outputs": [
    {
     "data": {
      "text/plain": [
       "['Depression',\n",
       " 'Anxiety Disorder',\n",
       " 'Panic Disorder',\n",
       " 'Anger/ Intermittent Explosive Disorder',\n",
       " 'Narcissistic Disorder']"
      ]
     },
     "execution_count": 5,
     "metadata": {},
     "output_type": "execute_result"
    }
   ],
   "source": [
    "Label"
   ]
  },
  {
   "cell_type": "code",
   "execution_count": 6,
   "id": "2b180658",
   "metadata": {},
   "outputs": [
    {
     "data": {
      "text/html": [
       "<div>\n",
       "<style scoped>\n",
       "    .dataframe tbody tr th:only-of-type {\n",
       "        vertical-align: middle;\n",
       "    }\n",
       "\n",
       "    .dataframe tbody tr th {\n",
       "        vertical-align: top;\n",
       "    }\n",
       "\n",
       "    .dataframe thead th {\n",
       "        text-align: right;\n",
       "    }\n",
       "</style>\n",
       "<table border=\"1\" class=\"dataframe\">\n",
       "  <thead>\n",
       "    <tr style=\"text-align: right;\">\n",
       "      <th></th>\n",
       "      <th>Text</th>\n",
       "      <th>label</th>\n",
       "    </tr>\n",
       "  </thead>\n",
       "  <tbody>\n",
       "    <tr>\n",
       "      <th>0</th>\n",
       "      <td>I can't shake off this constant sense of hopel...</td>\n",
       "      <td>0</td>\n",
       "    </tr>\n",
       "    <tr>\n",
       "      <th>1</th>\n",
       "      <td>I'm constantly second-guessing myself and my d...</td>\n",
       "      <td>1</td>\n",
       "    </tr>\n",
       "    <tr>\n",
       "      <th>2</th>\n",
       "      <td>I'm feeling physically unwell, but I know it's...</td>\n",
       "      <td>0</td>\n",
       "    </tr>\n",
       "    <tr>\n",
       "      <th>3</th>\n",
       "      <td>I'm desperate to escape the overwhelming fear.</td>\n",
       "      <td>2</td>\n",
       "    </tr>\n",
       "    <tr>\n",
       "      <th>4</th>\n",
       "      <td>It's hard to describe the sensation of being t...</td>\n",
       "      <td>2</td>\n",
       "    </tr>\n",
       "    <tr>\n",
       "      <th>...</th>\n",
       "      <td>...</td>\n",
       "      <td>...</td>\n",
       "    </tr>\n",
       "    <tr>\n",
       "      <th>780</th>\n",
       "      <td>I'm not good enough for anything.</td>\n",
       "      <td>0</td>\n",
       "    </tr>\n",
       "    <tr>\n",
       "      <th>781</th>\n",
       "      <td>Feeling like I'm a trailblazer, forging a path...</td>\n",
       "      <td>4</td>\n",
       "    </tr>\n",
       "    <tr>\n",
       "      <th>782</th>\n",
       "      <td>Trying to maintain my self-assuredness without...</td>\n",
       "      <td>4</td>\n",
       "    </tr>\n",
       "    <tr>\n",
       "      <th>783</th>\n",
       "      <td>Feeling like I have the potential to influence...</td>\n",
       "      <td>4</td>\n",
       "    </tr>\n",
       "    <tr>\n",
       "      <th>784</th>\n",
       "      <td>I'm convinced people are judging me during a p...</td>\n",
       "      <td>2</td>\n",
       "    </tr>\n",
       "  </tbody>\n",
       "</table>\n",
       "<p>785 rows × 2 columns</p>\n",
       "</div>"
      ],
      "text/plain": [
       "                                                  Text  label\n",
       "0    I can't shake off this constant sense of hopel...      0\n",
       "1    I'm constantly second-guessing myself and my d...      1\n",
       "2    I'm feeling physically unwell, but I know it's...      0\n",
       "3       I'm desperate to escape the overwhelming fear.      2\n",
       "4    It's hard to describe the sensation of being t...      2\n",
       "..                                                 ...    ...\n",
       "780                  I'm not good enough for anything.      0\n",
       "781  Feeling like I'm a trailblazer, forging a path...      4\n",
       "782  Trying to maintain my self-assuredness without...      4\n",
       "783  Feeling like I have the potential to influence...      4\n",
       "784  I'm convinced people are judging me during a p...      2\n",
       "\n",
       "[785 rows x 2 columns]"
      ]
     },
     "execution_count": 6,
     "metadata": {},
     "output_type": "execute_result"
    }
   ],
   "source": [
    "dic = {'Depression' : 0, 'Anxiety Disorder' : 1, 'Panic Disorder' : 2,\n",
    "       'Anger/ Intermittent Explosive Disorder' : 3, 'Narcissistic Disorder' : 4}\n",
    "df.label = df.label.map(dic)\n",
    "df"
   ]
  },
  {
   "cell_type": "code",
   "execution_count": 7,
   "id": "75a892c1",
   "metadata": {},
   "outputs": [],
   "source": [
    "import contractions as con\n",
    "import re\n",
    "contraction = \"[A-Za-z]*'[A-Za-z]{1,2}\""
   ]
  },
  {
   "cell_type": "code",
   "execution_count": 8,
   "id": "87243e0e",
   "metadata": {},
   "outputs": [
    {
     "data": {
      "text/html": [
       "<div>\n",
       "<style scoped>\n",
       "    .dataframe tbody tr th:only-of-type {\n",
       "        vertical-align: middle;\n",
       "    }\n",
       "\n",
       "    .dataframe tbody tr th {\n",
       "        vertical-align: top;\n",
       "    }\n",
       "\n",
       "    .dataframe thead th {\n",
       "        text-align: right;\n",
       "    }\n",
       "</style>\n",
       "<table border=\"1\" class=\"dataframe\">\n",
       "  <thead>\n",
       "    <tr style=\"text-align: right;\">\n",
       "      <th></th>\n",
       "      <th>Text</th>\n",
       "      <th>label</th>\n",
       "    </tr>\n",
       "  </thead>\n",
       "  <tbody>\n",
       "    <tr>\n",
       "      <th>0</th>\n",
       "      <td>I cannot shake off this constant sense of hope...</td>\n",
       "      <td>0</td>\n",
       "    </tr>\n",
       "    <tr>\n",
       "      <th>1</th>\n",
       "      <td>I am constantly second-guessing myself and my ...</td>\n",
       "      <td>1</td>\n",
       "    </tr>\n",
       "    <tr>\n",
       "      <th>2</th>\n",
       "      <td>I'm feeling physically unwell, but I know it i...</td>\n",
       "      <td>0</td>\n",
       "    </tr>\n",
       "    <tr>\n",
       "      <th>3</th>\n",
       "      <td>I am desperate to escape the overwhelming fear.</td>\n",
       "      <td>2</td>\n",
       "    </tr>\n",
       "    <tr>\n",
       "      <th>4</th>\n",
       "      <td>It is hard to describe the sensation of being ...</td>\n",
       "      <td>2</td>\n",
       "    </tr>\n",
       "    <tr>\n",
       "      <th>...</th>\n",
       "      <td>...</td>\n",
       "      <td>...</td>\n",
       "    </tr>\n",
       "    <tr>\n",
       "      <th>780</th>\n",
       "      <td>I am not good enough for anything.</td>\n",
       "      <td>0</td>\n",
       "    </tr>\n",
       "    <tr>\n",
       "      <th>781</th>\n",
       "      <td>Feeling like I am a trailblazer, forging a pat...</td>\n",
       "      <td>4</td>\n",
       "    </tr>\n",
       "    <tr>\n",
       "      <th>782</th>\n",
       "      <td>Trying to maintain my self-assuredness without...</td>\n",
       "      <td>4</td>\n",
       "    </tr>\n",
       "    <tr>\n",
       "      <th>783</th>\n",
       "      <td>Feeling like I have the potential to influence...</td>\n",
       "      <td>4</td>\n",
       "    </tr>\n",
       "    <tr>\n",
       "      <th>784</th>\n",
       "      <td>I am convinced people are judging me during a ...</td>\n",
       "      <td>2</td>\n",
       "    </tr>\n",
       "  </tbody>\n",
       "</table>\n",
       "<p>785 rows × 2 columns</p>\n",
       "</div>"
      ],
      "text/plain": [
       "                                                  Text  label\n",
       "0    I cannot shake off this constant sense of hope...      0\n",
       "1    I am constantly second-guessing myself and my ...      1\n",
       "2    I'm feeling physically unwell, but I know it i...      0\n",
       "3      I am desperate to escape the overwhelming fear.      2\n",
       "4    It is hard to describe the sensation of being ...      2\n",
       "..                                                 ...    ...\n",
       "780                 I am not good enough for anything.      0\n",
       "781  Feeling like I am a trailblazer, forging a pat...      4\n",
       "782  Trying to maintain my self-assuredness without...      4\n",
       "783  Feeling like I have the potential to influence...      4\n",
       "784  I am convinced people are judging me during a ...      2\n",
       "\n",
       "[785 rows x 2 columns]"
      ]
     },
     "execution_count": 8,
     "metadata": {},
     "output_type": "execute_result"
    }
   ],
   "source": [
    "for i in range(len(df)):\n",
    "    t = df.loc[i,'Text']\n",
    "    L = re.findall(string=t,pattern=contraction)\n",
    "    if len(L)>0:\n",
    "        for word in L:\n",
    "            df.loc[i,'Text'] = re.sub(re.escape(word),con.fix(word), t)\n",
    "df"
   ]
  },
  {
   "cell_type": "code",
   "execution_count": null,
   "id": "edf58206",
   "metadata": {},
   "outputs": [],
   "source": []
  },
  {
   "cell_type": "code",
   "execution_count": null,
   "id": "aa8d08c6",
   "metadata": {},
   "outputs": [],
   "source": []
  },
  {
   "cell_type": "code",
   "execution_count": 9,
   "id": "4b6e3cf8",
   "metadata": {},
   "outputs": [],
   "source": [
    "from tensorflow.keras.utils import to_categorical"
   ]
  },
  {
   "cell_type": "code",
   "execution_count": 10,
   "id": "58160415",
   "metadata": {},
   "outputs": [
    {
     "data": {
      "text/plain": [
       "array([[1., 0., 0., 0., 0.],\n",
       "       [0., 1., 0., 0., 0.],\n",
       "       [1., 0., 0., 0., 0.],\n",
       "       ...,\n",
       "       [0., 0., 0., 0., 1.],\n",
       "       [0., 0., 0., 0., 1.],\n",
       "       [0., 0., 1., 0., 0.]], dtype=float32)"
      ]
     },
     "execution_count": 10,
     "metadata": {},
     "output_type": "execute_result"
    }
   ],
   "source": [
    "Y = to_categorical(df['label'])\n",
    "Y"
   ]
  },
  {
   "cell_type": "code",
   "execution_count": 11,
   "id": "9c298749",
   "metadata": {},
   "outputs": [
    {
     "name": "stderr",
     "output_type": "stream",
     "text": [
      "C:\\Python310\\lib\\site-packages\\tqdm\\auto.py:21: TqdmWarning: IProgress not found. Please update jupyter and ipywidgets. See https://ipywidgets.readthedocs.io/en/stable/user_install.html\n",
      "  from .autonotebook import tqdm as notebook_tqdm\n"
     ]
    }
   ],
   "source": [
    "from transformers import AutoTokenizer,TFBertModel"
   ]
  },
  {
   "cell_type": "code",
   "execution_count": 12,
   "id": "fdf74e9b",
   "metadata": {
    "scrolled": true
   },
   "outputs": [
    {
     "name": "stderr",
     "output_type": "stream",
     "text": [
      "Some weights of the PyTorch model were not used when initializing the TF 2.0 model TFBertModel: ['cls.predictions.transform.LayerNorm.bias', 'cls.predictions.transform.dense.weight', 'cls.predictions.transform.dense.bias', 'cls.predictions.transform.LayerNorm.weight', 'cls.predictions.bias', 'cls.seq_relationship.weight', 'cls.seq_relationship.bias']\n",
      "- This IS expected if you are initializing TFBertModel from a PyTorch model trained on another task or with another architecture (e.g. initializing a TFBertForSequenceClassification model from a BertForPreTraining model).\n",
      "- This IS NOT expected if you are initializing TFBertModel from a PyTorch model that you expect to be exactly identical (e.g. initializing a TFBertForSequenceClassification model from a BertForSequenceClassification model).\n",
      "All the weights of TFBertModel were initialized from the PyTorch model.\n",
      "If your task is similar to the task the model of the checkpoint was trained on, you can already use TFBertModel for predictions without further training.\n"
     ]
    }
   ],
   "source": [
    "tokenizer = AutoTokenizer.from_pretrained('bert-base-cased')\n",
    "bert = TFBertModel.from_pretrained('bert-base-cased')"
   ]
  },
  {
   "cell_type": "code",
   "execution_count": 13,
   "id": "0f246d57",
   "metadata": {},
   "outputs": [
    {
     "data": {
      "text/plain": [
       "BertTokenizerFast(name_or_path='bert-base-cased', vocab_size=28996, model_max_length=512, is_fast=True, padding_side='right', truncation_side='right', special_tokens={'unk_token': '[UNK]', 'sep_token': '[SEP]', 'pad_token': '[PAD]', 'cls_token': '[CLS]', 'mask_token': '[MASK]'}, clean_up_tokenization_spaces=True)"
      ]
     },
     "execution_count": 13,
     "metadata": {},
     "output_type": "execute_result"
    }
   ],
   "source": [
    "tokenizer"
   ]
  },
  {
   "cell_type": "code",
   "execution_count": 14,
   "id": "91376871",
   "metadata": {},
   "outputs": [
    {
     "data": {
      "text/plain": [
       "<transformers.models.bert.modeling_tf_bert.TFBertModel at 0x2ca4e55ab30>"
      ]
     },
     "execution_count": 14,
     "metadata": {},
     "output_type": "execute_result"
    }
   ],
   "source": [
    "bert"
   ]
  },
  {
   "cell_type": "code",
   "execution_count": 15,
   "id": "35b67d7e",
   "metadata": {},
   "outputs": [],
   "source": [
    "from sklearn.model_selection import train_test_split"
   ]
  },
  {
   "cell_type": "code",
   "execution_count": 16,
   "id": "feece319",
   "metadata": {},
   "outputs": [
    {
     "name": "stdout",
     "output_type": "stream",
     "text": [
      "(628,)\n",
      "(628, 5)\n",
      "(157,)\n",
      "(157, 5)\n"
     ]
    }
   ],
   "source": [
    "x_train,x_test,y_train,y_test = train_test_split(df['Text'],Y,random_state=42,test_size=0.2)\n",
    "print(x_train.shape)\n",
    "print(y_train.shape)\n",
    "print(x_test.shape)\n",
    "print(y_test.shape)"
   ]
  },
  {
   "cell_type": "code",
   "execution_count": 17,
   "id": "4ea8f0c5",
   "metadata": {},
   "outputs": [
    {
     "data": {
      "text/plain": [
       "86"
      ]
     },
     "execution_count": 17,
     "metadata": {},
     "output_type": "execute_result"
    }
   ],
   "source": [
    "max_len = 0\n",
    "for each in df['Text']:\n",
    "    max_len = max(max_len,len(each))\n",
    "max_len"
   ]
  },
  {
   "cell_type": "code",
   "execution_count": 18,
   "id": "79503611",
   "metadata": {},
   "outputs": [],
   "source": [
    "X_train = tokenizer(\n",
    "    text = df['Text'].tolist(),\n",
    "    add_special_tokens=True,\n",
    "    max_length=max_len,\n",
    "    truncation=True,\n",
    "    return_tensors='tf',\n",
    "    return_token_type_ids=False,\n",
    "    return_attention_mask=True,\n",
    "    verbose=True,\n",
    "    padding=True\n",
    ")\n",
    "\n",
    "X_test = tokenizer(\n",
    "    text = x_test.tolist(),\n",
    "    add_special_tokens=True,\n",
    "    max_length=max_len,\n",
    "    truncation=True,\n",
    "    return_tensors='tf',\n",
    "    return_token_type_ids=False,\n",
    "    return_attention_mask=True,\n",
    "    verbose=True,\n",
    "    padding = True\n",
    ")\n"
   ]
  },
  {
   "cell_type": "code",
   "execution_count": 19,
   "id": "3e4805fb",
   "metadata": {},
   "outputs": [
    {
     "data": {
      "text/plain": [
       "{'input_ids': <tf.Tensor: shape=(785, 26), dtype=int32, numpy=\n",
       "array([[  101,   146,  2834, ...,     0,     0,     0],\n",
       "       [  101,   146,  1821, ...,     0,     0,     0],\n",
       "       [  101,   146,   112, ...,     0,     0,     0],\n",
       "       ...,\n",
       "       [  101, 19020,  1106, ...,     0,     0,     0],\n",
       "       [  101, 13085,  1176, ...,     0,     0,     0],\n",
       "       [  101,   146,  1821, ...,     0,     0,     0]])>, 'attention_mask': <tf.Tensor: shape=(785, 26), dtype=int32, numpy=\n",
       "array([[1, 1, 1, ..., 0, 0, 0],\n",
       "       [1, 1, 1, ..., 0, 0, 0],\n",
       "       [1, 1, 1, ..., 0, 0, 0],\n",
       "       ...,\n",
       "       [1, 1, 1, ..., 0, 0, 0],\n",
       "       [1, 1, 1, ..., 0, 0, 0],\n",
       "       [1, 1, 1, ..., 0, 0, 0]])>}"
      ]
     },
     "execution_count": 19,
     "metadata": {},
     "output_type": "execute_result"
    }
   ],
   "source": [
    "X_train"
   ]
  },
  {
   "cell_type": "markdown",
   "id": "16ca5c01",
   "metadata": {},
   "source": [
    "# Model Building"
   ]
  },
  {
   "cell_type": "code",
   "execution_count": 20,
   "id": "e4039ca5",
   "metadata": {},
   "outputs": [],
   "source": [
    "import tensorflow as tf\n",
    "from tensorflow.keras.optimizers import Adam\n",
    "from tensorflow.keras.initializers import TruncatedNormal\n",
    "from tensorflow.keras.callbacks import EarlyStopping\n",
    "from tensorflow.keras.losses import CategoricalCrossentropy\n",
    "from tensorflow.keras.metrics import CategoricalAccuracy\n",
    "from tensorflow.keras.utils import to_categorical\n",
    "from tensorflow.keras.layers import Input,Dense,GlobalMaxPool1D,Dropout"
   ]
  },
  {
   "cell_type": "code",
   "execution_count": 26,
   "id": "d9c3e323",
   "metadata": {},
   "outputs": [],
   "source": [
    "max_len=26\n",
    "input_ids = Input(shape=(max_len,),dtype = tf.int32,name='input_ids')\n",
    "input_mask = Input(shape=(max_len,),dtype = tf.int32,name=\"attention_mask\")\n",
    "embeddings = bert(input_ids,attention_mask=input_mask)[0]\n",
    "out = GlobalMaxPool1D()(embeddings)\n",
    "out = Dense(128,activation='relu')(out)\n",
    "out = Dropout(0.9)(out)\n",
    "out = Dense(32,activation='relu')(out)\n",
    "output = Dense(5,activation='softmax')(out)\n",
    "\n",
    "model = tf.keras.Model(inputs=[input_ids,input_mask],outputs=output)\n",
    "#model.layers[2].trainable=True"
   ]
  },
  {
   "cell_type": "code",
   "execution_count": 27,
   "id": "b2e3487a",
   "metadata": {},
   "outputs": [
    {
     "name": "stdout",
     "output_type": "stream",
     "text": [
      "Model: \"model_1\"\n",
      "__________________________________________________________________________________________________\n",
      " Layer (type)                Output Shape                 Param #   Connected to                  \n",
      "==================================================================================================\n",
      " input_ids (InputLayer)      [(None, 26)]                 0         []                            \n",
      "                                                                                                  \n",
      " attention_mask (InputLayer  [(None, 26)]                 0         []                            \n",
      " )                                                                                                \n",
      "                                                                                                  \n",
      " tf_bert_model (TFBertModel  TFBaseModelOutputWithPooli   1083102   ['input_ids[0][0]',           \n",
      " )                           ngAndCrossAttentions(last_   72         'attention_mask[0][0]']      \n",
      "                             hidden_state=(None, 26, 76                                           \n",
      "                             8),                                                                  \n",
      "                              pooler_output=(None, 768)                                           \n",
      "                             , past_key_values=None, hi                                           \n",
      "                             dden_states=None, attentio                                           \n",
      "                             ns=None, cross_attentions=                                           \n",
      "                             None)                                                                \n",
      "                                                                                                  \n",
      " global_max_pooling1d (Glob  (None, 768)                  0         ['tf_bert_model[1][0]']       \n",
      " alMaxPooling1D)                                                                                  \n",
      "                                                                                                  \n",
      " dense_3 (Dense)             (None, 128)                  98432     ['global_max_pooling1d[0][0]']\n",
      "                                                                                                  \n",
      " dropout_38 (Dropout)        (None, 128)                  0         ['dense_3[0][0]']             \n",
      "                                                                                                  \n",
      " dense_4 (Dense)             (None, 32)                   4128      ['dropout_38[0][0]']          \n",
      "                                                                                                  \n",
      " dense_5 (Dense)             (None, 5)                    165       ['dense_4[0][0]']             \n",
      "                                                                                                  \n",
      "==================================================================================================\n",
      "Total params: 108412997 (413.56 MB)\n",
      "Trainable params: 108412997 (413.56 MB)\n",
      "Non-trainable params: 0 (0.00 Byte)\n",
      "__________________________________________________________________________________________________\n",
      "None\n"
     ]
    }
   ],
   "source": [
    "print(model.summary())"
   ]
  },
  {
   "cell_type": "code",
   "execution_count": 28,
   "id": "a52fe385",
   "metadata": {},
   "outputs": [],
   "source": [
    "model.compile(optimizer=Adam(learning_rate=5e-5,epsilon=1e-8,clipnorm=1.0),\n",
    "             loss=CategoricalCrossentropy(from_logits=True),\n",
    "             metrics=CategoricalAccuracy())"
   ]
  },
  {
   "cell_type": "code",
   "execution_count": 29,
   "id": "a2339a77",
   "metadata": {},
   "outputs": [],
   "source": [
    "epochs=0"
   ]
  },
  {
   "cell_type": "code",
   "execution_count": 30,
   "id": "4365d4d9",
   "metadata": {
    "scrolled": false
   },
   "outputs": [
    {
     "name": "stdout",
     "output_type": "stream",
     "text": [
      "Epoch 1/50\n"
     ]
    },
    {
     "name": "stderr",
     "output_type": "stream",
     "text": [
      "C:\\Python310\\lib\\site-packages\\keras\\src\\backend.py:5562: UserWarning: \"`categorical_crossentropy` received `from_logits=True`, but the `output` argument was produced by a Softmax activation and thus does not represent logits. Was this intended?\n",
      "  output, from_logits = _get_logits(\n"
     ]
    },
    {
     "name": "stdout",
     "output_type": "stream",
     "text": [
      "WARNING:tensorflow:Gradients do not exist for variables ['tf_bert_model/bert/pooler/dense/kernel:0', 'tf_bert_model/bert/pooler/dense/bias:0'] when minimizing the loss. If you're using `model.compile()`, did you forget to provide a `loss` argument?\n",
      "WARNING:tensorflow:Gradients do not exist for variables ['tf_bert_model/bert/pooler/dense/kernel:0', 'tf_bert_model/bert/pooler/dense/bias:0'] when minimizing the loss. If you're using `model.compile()`, did you forget to provide a `loss` argument?\n",
      "WARNING:tensorflow:Gradients do not exist for variables ['tf_bert_model/bert/pooler/dense/kernel:0', 'tf_bert_model/bert/pooler/dense/bias:0'] when minimizing the loss. If you're using `model.compile()`, did you forget to provide a `loss` argument?\n",
      "WARNING:tensorflow:Gradients do not exist for variables ['tf_bert_model/bert/pooler/dense/kernel:0', 'tf_bert_model/bert/pooler/dense/bias:0'] when minimizing the loss. If you're using `model.compile()`, did you forget to provide a `loss` argument?\n",
      " 3/22 [===>..........................] - ETA: 4:07 - loss: 3.3274 - categorical_accuracy: 0.2315"
     ]
    },
    {
     "ename": "KeyboardInterrupt",
     "evalue": "",
     "output_type": "error",
     "traceback": [
      "\u001b[1;31m---------------------------------------------------------------------------\u001b[0m",
      "\u001b[1;31mKeyboardInterrupt\u001b[0m                         Traceback (most recent call last)",
      "Cell \u001b[1;32mIn[30], line 2\u001b[0m\n\u001b[0;32m      1\u001b[0m epoch\u001b[38;5;241m=\u001b[39m\u001b[38;5;241m50\u001b[39m\n\u001b[1;32m----> 2\u001b[0m \u001b[43mmodel\u001b[49m\u001b[38;5;241;43m.\u001b[39;49m\u001b[43mfit\u001b[49m\u001b[43m(\u001b[49m\u001b[43mx\u001b[49m\u001b[38;5;241;43m=\u001b[39;49m\u001b[43m{\u001b[49m\u001b[38;5;124;43m'\u001b[39;49m\u001b[38;5;124;43minput_ids\u001b[39;49m\u001b[38;5;124;43m'\u001b[39;49m\u001b[43m:\u001b[49m\u001b[43mX_train\u001b[49m\u001b[43m[\u001b[49m\u001b[38;5;124;43m'\u001b[39;49m\u001b[38;5;124;43minput_ids\u001b[39;49m\u001b[38;5;124;43m'\u001b[39;49m\u001b[43m]\u001b[49m\u001b[43m,\u001b[49m\u001b[38;5;124;43m'\u001b[39;49m\u001b[38;5;124;43mattention_mask\u001b[39;49m\u001b[38;5;124;43m'\u001b[39;49m\u001b[43m:\u001b[49m\u001b[43mX_train\u001b[49m\u001b[43m[\u001b[49m\u001b[38;5;124;43m'\u001b[39;49m\u001b[38;5;124;43mattention_mask\u001b[39;49m\u001b[38;5;124;43m'\u001b[39;49m\u001b[43m]\u001b[49m\u001b[43m}\u001b[49m\u001b[43m,\u001b[49m\n\u001b[0;32m      3\u001b[0m \u001b[43m         \u001b[49m\u001b[43my\u001b[49m\u001b[38;5;241;43m=\u001b[39;49m\u001b[43mY\u001b[49m\u001b[43m,\u001b[49m\n\u001b[0;32m      4\u001b[0m \u001b[43m         \u001b[49m\u001b[43mepochs\u001b[49m\u001b[38;5;241;43m=\u001b[39;49m\u001b[43mepoch\u001b[49m\u001b[43m,\u001b[49m\n\u001b[0;32m      5\u001b[0m \u001b[43m          \u001b[49m\u001b[43mbatch_size\u001b[49m\u001b[38;5;241;43m=\u001b[39;49m\u001b[38;5;241;43m36\u001b[39;49m\n\u001b[0;32m      6\u001b[0m \u001b[43m         \u001b[49m\u001b[43m)\u001b[49m\n\u001b[0;32m      7\u001b[0m epochs\u001b[38;5;241m+\u001b[39m\u001b[38;5;241m=\u001b[39mepoch\n",
      "File \u001b[1;32mC:\\Python310\\lib\\site-packages\\keras\\src\\utils\\traceback_utils.py:65\u001b[0m, in \u001b[0;36mfilter_traceback.<locals>.error_handler\u001b[1;34m(*args, **kwargs)\u001b[0m\n\u001b[0;32m     63\u001b[0m filtered_tb \u001b[38;5;241m=\u001b[39m \u001b[38;5;28;01mNone\u001b[39;00m\n\u001b[0;32m     64\u001b[0m \u001b[38;5;28;01mtry\u001b[39;00m:\n\u001b[1;32m---> 65\u001b[0m     \u001b[38;5;28;01mreturn\u001b[39;00m fn(\u001b[38;5;241m*\u001b[39margs, \u001b[38;5;241m*\u001b[39m\u001b[38;5;241m*\u001b[39mkwargs)\n\u001b[0;32m     66\u001b[0m \u001b[38;5;28;01mexcept\u001b[39;00m \u001b[38;5;167;01mException\u001b[39;00m \u001b[38;5;28;01mas\u001b[39;00m e:\n\u001b[0;32m     67\u001b[0m     filtered_tb \u001b[38;5;241m=\u001b[39m _process_traceback_frames(e\u001b[38;5;241m.\u001b[39m__traceback__)\n",
      "File \u001b[1;32mC:\\Python310\\lib\\site-packages\\keras\\src\\engine\\training.py:1742\u001b[0m, in \u001b[0;36mModel.fit\u001b[1;34m(self, x, y, batch_size, epochs, verbose, callbacks, validation_split, validation_data, shuffle, class_weight, sample_weight, initial_epoch, steps_per_epoch, validation_steps, validation_batch_size, validation_freq, max_queue_size, workers, use_multiprocessing)\u001b[0m\n\u001b[0;32m   1734\u001b[0m \u001b[38;5;28;01mwith\u001b[39;00m tf\u001b[38;5;241m.\u001b[39mprofiler\u001b[38;5;241m.\u001b[39mexperimental\u001b[38;5;241m.\u001b[39mTrace(\n\u001b[0;32m   1735\u001b[0m     \u001b[38;5;124m\"\u001b[39m\u001b[38;5;124mtrain\u001b[39m\u001b[38;5;124m\"\u001b[39m,\n\u001b[0;32m   1736\u001b[0m     epoch_num\u001b[38;5;241m=\u001b[39mepoch,\n\u001b[1;32m   (...)\u001b[0m\n\u001b[0;32m   1739\u001b[0m     _r\u001b[38;5;241m=\u001b[39m\u001b[38;5;241m1\u001b[39m,\n\u001b[0;32m   1740\u001b[0m ):\n\u001b[0;32m   1741\u001b[0m     callbacks\u001b[38;5;241m.\u001b[39mon_train_batch_begin(step)\n\u001b[1;32m-> 1742\u001b[0m     tmp_logs \u001b[38;5;241m=\u001b[39m \u001b[38;5;28;43mself\u001b[39;49m\u001b[38;5;241;43m.\u001b[39;49m\u001b[43mtrain_function\u001b[49m\u001b[43m(\u001b[49m\u001b[43miterator\u001b[49m\u001b[43m)\u001b[49m\n\u001b[0;32m   1743\u001b[0m     \u001b[38;5;28;01mif\u001b[39;00m data_handler\u001b[38;5;241m.\u001b[39mshould_sync:\n\u001b[0;32m   1744\u001b[0m         context\u001b[38;5;241m.\u001b[39masync_wait()\n",
      "File \u001b[1;32mC:\\Python310\\lib\\site-packages\\tensorflow\\python\\util\\traceback_utils.py:150\u001b[0m, in \u001b[0;36mfilter_traceback.<locals>.error_handler\u001b[1;34m(*args, **kwargs)\u001b[0m\n\u001b[0;32m    148\u001b[0m filtered_tb \u001b[38;5;241m=\u001b[39m \u001b[38;5;28;01mNone\u001b[39;00m\n\u001b[0;32m    149\u001b[0m \u001b[38;5;28;01mtry\u001b[39;00m:\n\u001b[1;32m--> 150\u001b[0m   \u001b[38;5;28;01mreturn\u001b[39;00m fn(\u001b[38;5;241m*\u001b[39margs, \u001b[38;5;241m*\u001b[39m\u001b[38;5;241m*\u001b[39mkwargs)\n\u001b[0;32m    151\u001b[0m \u001b[38;5;28;01mexcept\u001b[39;00m \u001b[38;5;167;01mException\u001b[39;00m \u001b[38;5;28;01mas\u001b[39;00m e:\n\u001b[0;32m    152\u001b[0m   filtered_tb \u001b[38;5;241m=\u001b[39m _process_traceback_frames(e\u001b[38;5;241m.\u001b[39m__traceback__)\n",
      "File \u001b[1;32mC:\\Python310\\lib\\site-packages\\tensorflow\\python\\eager\\polymorphic_function\\polymorphic_function.py:825\u001b[0m, in \u001b[0;36mFunction.__call__\u001b[1;34m(self, *args, **kwds)\u001b[0m\n\u001b[0;32m    822\u001b[0m compiler \u001b[38;5;241m=\u001b[39m \u001b[38;5;124m\"\u001b[39m\u001b[38;5;124mxla\u001b[39m\u001b[38;5;124m\"\u001b[39m \u001b[38;5;28;01mif\u001b[39;00m \u001b[38;5;28mself\u001b[39m\u001b[38;5;241m.\u001b[39m_jit_compile \u001b[38;5;28;01melse\u001b[39;00m \u001b[38;5;124m\"\u001b[39m\u001b[38;5;124mnonXla\u001b[39m\u001b[38;5;124m\"\u001b[39m\n\u001b[0;32m    824\u001b[0m \u001b[38;5;28;01mwith\u001b[39;00m OptionalXlaContext(\u001b[38;5;28mself\u001b[39m\u001b[38;5;241m.\u001b[39m_jit_compile):\n\u001b[1;32m--> 825\u001b[0m   result \u001b[38;5;241m=\u001b[39m \u001b[38;5;28mself\u001b[39m\u001b[38;5;241m.\u001b[39m_call(\u001b[38;5;241m*\u001b[39margs, \u001b[38;5;241m*\u001b[39m\u001b[38;5;241m*\u001b[39mkwds)\n\u001b[0;32m    827\u001b[0m new_tracing_count \u001b[38;5;241m=\u001b[39m \u001b[38;5;28mself\u001b[39m\u001b[38;5;241m.\u001b[39mexperimental_get_tracing_count()\n\u001b[0;32m    828\u001b[0m without_tracing \u001b[38;5;241m=\u001b[39m (tracing_count \u001b[38;5;241m==\u001b[39m new_tracing_count)\n",
      "File \u001b[1;32mC:\\Python310\\lib\\site-packages\\tensorflow\\python\\eager\\polymorphic_function\\polymorphic_function.py:857\u001b[0m, in \u001b[0;36mFunction._call\u001b[1;34m(self, *args, **kwds)\u001b[0m\n\u001b[0;32m    854\u001b[0m   \u001b[38;5;28mself\u001b[39m\u001b[38;5;241m.\u001b[39m_lock\u001b[38;5;241m.\u001b[39mrelease()\n\u001b[0;32m    855\u001b[0m   \u001b[38;5;66;03m# In this case we have created variables on the first call, so we run the\u001b[39;00m\n\u001b[0;32m    856\u001b[0m   \u001b[38;5;66;03m# defunned version which is guaranteed to never create variables.\u001b[39;00m\n\u001b[1;32m--> 857\u001b[0m   \u001b[38;5;28;01mreturn\u001b[39;00m \u001b[38;5;28mself\u001b[39m\u001b[38;5;241m.\u001b[39m_no_variable_creation_fn(\u001b[38;5;241m*\u001b[39margs, \u001b[38;5;241m*\u001b[39m\u001b[38;5;241m*\u001b[39mkwds)  \u001b[38;5;66;03m# pylint: disable=not-callable\u001b[39;00m\n\u001b[0;32m    858\u001b[0m \u001b[38;5;28;01melif\u001b[39;00m \u001b[38;5;28mself\u001b[39m\u001b[38;5;241m.\u001b[39m_variable_creation_fn \u001b[38;5;129;01mis\u001b[39;00m \u001b[38;5;129;01mnot\u001b[39;00m \u001b[38;5;28;01mNone\u001b[39;00m:\n\u001b[0;32m    859\u001b[0m   \u001b[38;5;66;03m# Release the lock early so that multiple threads can perform the call\u001b[39;00m\n\u001b[0;32m    860\u001b[0m   \u001b[38;5;66;03m# in parallel.\u001b[39;00m\n\u001b[0;32m    861\u001b[0m   \u001b[38;5;28mself\u001b[39m\u001b[38;5;241m.\u001b[39m_lock\u001b[38;5;241m.\u001b[39mrelease()\n",
      "File \u001b[1;32mC:\\Python310\\lib\\site-packages\\tensorflow\\python\\eager\\polymorphic_function\\tracing_compiler.py:148\u001b[0m, in \u001b[0;36mTracingCompiler.__call__\u001b[1;34m(self, *args, **kwargs)\u001b[0m\n\u001b[0;32m    145\u001b[0m \u001b[38;5;28;01mwith\u001b[39;00m \u001b[38;5;28mself\u001b[39m\u001b[38;5;241m.\u001b[39m_lock:\n\u001b[0;32m    146\u001b[0m   (concrete_function,\n\u001b[0;32m    147\u001b[0m    filtered_flat_args) \u001b[38;5;241m=\u001b[39m \u001b[38;5;28mself\u001b[39m\u001b[38;5;241m.\u001b[39m_maybe_define_function(args, kwargs)\n\u001b[1;32m--> 148\u001b[0m \u001b[38;5;28;01mreturn\u001b[39;00m \u001b[43mconcrete_function\u001b[49m\u001b[38;5;241;43m.\u001b[39;49m\u001b[43m_call_flat\u001b[49m\u001b[43m(\u001b[49m\n\u001b[0;32m    149\u001b[0m \u001b[43m    \u001b[49m\u001b[43mfiltered_flat_args\u001b[49m\u001b[43m,\u001b[49m\u001b[43m \u001b[49m\u001b[43mcaptured_inputs\u001b[49m\u001b[38;5;241;43m=\u001b[39;49m\u001b[43mconcrete_function\u001b[49m\u001b[38;5;241;43m.\u001b[39;49m\u001b[43mcaptured_inputs\u001b[49m\u001b[43m)\u001b[49m\n",
      "File \u001b[1;32mC:\\Python310\\lib\\site-packages\\tensorflow\\python\\eager\\polymorphic_function\\monomorphic_function.py:1349\u001b[0m, in \u001b[0;36mConcreteFunction._call_flat\u001b[1;34m(self, args, captured_inputs)\u001b[0m\n\u001b[0;32m   1345\u001b[0m possible_gradient_type \u001b[38;5;241m=\u001b[39m gradients_util\u001b[38;5;241m.\u001b[39mPossibleTapeGradientTypes(args)\n\u001b[0;32m   1346\u001b[0m \u001b[38;5;28;01mif\u001b[39;00m (possible_gradient_type \u001b[38;5;241m==\u001b[39m gradients_util\u001b[38;5;241m.\u001b[39mPOSSIBLE_GRADIENT_TYPES_NONE\n\u001b[0;32m   1347\u001b[0m     \u001b[38;5;129;01mand\u001b[39;00m executing_eagerly):\n\u001b[0;32m   1348\u001b[0m   \u001b[38;5;66;03m# No tape is watching; skip to running the function.\u001b[39;00m\n\u001b[1;32m-> 1349\u001b[0m   \u001b[38;5;28;01mreturn\u001b[39;00m \u001b[38;5;28mself\u001b[39m\u001b[38;5;241m.\u001b[39m_build_call_outputs(\u001b[38;5;28;43mself\u001b[39;49m\u001b[38;5;241;43m.\u001b[39;49m\u001b[43m_inference_function\u001b[49m\u001b[43m(\u001b[49m\u001b[38;5;241;43m*\u001b[39;49m\u001b[43margs\u001b[49m\u001b[43m)\u001b[49m)\n\u001b[0;32m   1350\u001b[0m forward_backward \u001b[38;5;241m=\u001b[39m \u001b[38;5;28mself\u001b[39m\u001b[38;5;241m.\u001b[39m_select_forward_and_backward_functions(\n\u001b[0;32m   1351\u001b[0m     args,\n\u001b[0;32m   1352\u001b[0m     possible_gradient_type,\n\u001b[0;32m   1353\u001b[0m     executing_eagerly)\n\u001b[0;32m   1354\u001b[0m forward_function, args_with_tangents \u001b[38;5;241m=\u001b[39m forward_backward\u001b[38;5;241m.\u001b[39mforward()\n",
      "File \u001b[1;32mC:\\Python310\\lib\\site-packages\\tensorflow\\python\\eager\\polymorphic_function\\atomic_function.py:196\u001b[0m, in \u001b[0;36mAtomicFunction.__call__\u001b[1;34m(self, *args)\u001b[0m\n\u001b[0;32m    194\u001b[0m \u001b[38;5;28;01mwith\u001b[39;00m record\u001b[38;5;241m.\u001b[39mstop_recording():\n\u001b[0;32m    195\u001b[0m   \u001b[38;5;28;01mif\u001b[39;00m \u001b[38;5;28mself\u001b[39m\u001b[38;5;241m.\u001b[39m_bound_context\u001b[38;5;241m.\u001b[39mexecuting_eagerly():\n\u001b[1;32m--> 196\u001b[0m     outputs \u001b[38;5;241m=\u001b[39m \u001b[38;5;28;43mself\u001b[39;49m\u001b[38;5;241;43m.\u001b[39;49m\u001b[43m_bound_context\u001b[49m\u001b[38;5;241;43m.\u001b[39;49m\u001b[43mcall_function\u001b[49m\u001b[43m(\u001b[49m\n\u001b[0;32m    197\u001b[0m \u001b[43m        \u001b[49m\u001b[38;5;28;43mself\u001b[39;49m\u001b[38;5;241;43m.\u001b[39;49m\u001b[43mname\u001b[49m\u001b[43m,\u001b[49m\n\u001b[0;32m    198\u001b[0m \u001b[43m        \u001b[49m\u001b[38;5;28;43mlist\u001b[39;49m\u001b[43m(\u001b[49m\u001b[43margs\u001b[49m\u001b[43m)\u001b[49m\u001b[43m,\u001b[49m\n\u001b[0;32m    199\u001b[0m \u001b[43m        \u001b[49m\u001b[38;5;28;43mlen\u001b[39;49m\u001b[43m(\u001b[49m\u001b[38;5;28;43mself\u001b[39;49m\u001b[38;5;241;43m.\u001b[39;49m\u001b[43mfunction_type\u001b[49m\u001b[38;5;241;43m.\u001b[39;49m\u001b[43mflat_outputs\u001b[49m\u001b[43m)\u001b[49m\u001b[43m,\u001b[49m\n\u001b[0;32m    200\u001b[0m \u001b[43m    \u001b[49m\u001b[43m)\u001b[49m\n\u001b[0;32m    201\u001b[0m   \u001b[38;5;28;01melse\u001b[39;00m:\n\u001b[0;32m    202\u001b[0m     outputs \u001b[38;5;241m=\u001b[39m make_call_op_in_graph(\u001b[38;5;28mself\u001b[39m, \u001b[38;5;28mlist\u001b[39m(args))\n",
      "File \u001b[1;32mC:\\Python310\\lib\\site-packages\\tensorflow\\python\\eager\\context.py:1457\u001b[0m, in \u001b[0;36mContext.call_function\u001b[1;34m(self, name, tensor_inputs, num_outputs)\u001b[0m\n\u001b[0;32m   1455\u001b[0m cancellation_context \u001b[38;5;241m=\u001b[39m cancellation\u001b[38;5;241m.\u001b[39mcontext()\n\u001b[0;32m   1456\u001b[0m \u001b[38;5;28;01mif\u001b[39;00m cancellation_context \u001b[38;5;129;01mis\u001b[39;00m \u001b[38;5;28;01mNone\u001b[39;00m:\n\u001b[1;32m-> 1457\u001b[0m   outputs \u001b[38;5;241m=\u001b[39m \u001b[43mexecute\u001b[49m\u001b[38;5;241;43m.\u001b[39;49m\u001b[43mexecute\u001b[49m\u001b[43m(\u001b[49m\n\u001b[0;32m   1458\u001b[0m \u001b[43m      \u001b[49m\u001b[43mname\u001b[49m\u001b[38;5;241;43m.\u001b[39;49m\u001b[43mdecode\u001b[49m\u001b[43m(\u001b[49m\u001b[38;5;124;43m\"\u001b[39;49m\u001b[38;5;124;43mutf-8\u001b[39;49m\u001b[38;5;124;43m\"\u001b[39;49m\u001b[43m)\u001b[49m\u001b[43m,\u001b[49m\n\u001b[0;32m   1459\u001b[0m \u001b[43m      \u001b[49m\u001b[43mnum_outputs\u001b[49m\u001b[38;5;241;43m=\u001b[39;49m\u001b[43mnum_outputs\u001b[49m\u001b[43m,\u001b[49m\n\u001b[0;32m   1460\u001b[0m \u001b[43m      \u001b[49m\u001b[43minputs\u001b[49m\u001b[38;5;241;43m=\u001b[39;49m\u001b[43mtensor_inputs\u001b[49m\u001b[43m,\u001b[49m\n\u001b[0;32m   1461\u001b[0m \u001b[43m      \u001b[49m\u001b[43mattrs\u001b[49m\u001b[38;5;241;43m=\u001b[39;49m\u001b[43mattrs\u001b[49m\u001b[43m,\u001b[49m\n\u001b[0;32m   1462\u001b[0m \u001b[43m      \u001b[49m\u001b[43mctx\u001b[49m\u001b[38;5;241;43m=\u001b[39;49m\u001b[38;5;28;43mself\u001b[39;49m\u001b[43m,\u001b[49m\n\u001b[0;32m   1463\u001b[0m \u001b[43m  \u001b[49m\u001b[43m)\u001b[49m\n\u001b[0;32m   1464\u001b[0m \u001b[38;5;28;01melse\u001b[39;00m:\n\u001b[0;32m   1465\u001b[0m   outputs \u001b[38;5;241m=\u001b[39m execute\u001b[38;5;241m.\u001b[39mexecute_with_cancellation(\n\u001b[0;32m   1466\u001b[0m       name\u001b[38;5;241m.\u001b[39mdecode(\u001b[38;5;124m\"\u001b[39m\u001b[38;5;124mutf-8\u001b[39m\u001b[38;5;124m\"\u001b[39m),\n\u001b[0;32m   1467\u001b[0m       num_outputs\u001b[38;5;241m=\u001b[39mnum_outputs,\n\u001b[1;32m   (...)\u001b[0m\n\u001b[0;32m   1471\u001b[0m       cancellation_manager\u001b[38;5;241m=\u001b[39mcancellation_context,\n\u001b[0;32m   1472\u001b[0m   )\n",
      "File \u001b[1;32mC:\\Python310\\lib\\site-packages\\tensorflow\\python\\eager\\execute.py:53\u001b[0m, in \u001b[0;36mquick_execute\u001b[1;34m(op_name, num_outputs, inputs, attrs, ctx, name)\u001b[0m\n\u001b[0;32m     51\u001b[0m \u001b[38;5;28;01mtry\u001b[39;00m:\n\u001b[0;32m     52\u001b[0m   ctx\u001b[38;5;241m.\u001b[39mensure_initialized()\n\u001b[1;32m---> 53\u001b[0m   tensors \u001b[38;5;241m=\u001b[39m \u001b[43mpywrap_tfe\u001b[49m\u001b[38;5;241;43m.\u001b[39;49m\u001b[43mTFE_Py_Execute\u001b[49m\u001b[43m(\u001b[49m\u001b[43mctx\u001b[49m\u001b[38;5;241;43m.\u001b[39;49m\u001b[43m_handle\u001b[49m\u001b[43m,\u001b[49m\u001b[43m \u001b[49m\u001b[43mdevice_name\u001b[49m\u001b[43m,\u001b[49m\u001b[43m \u001b[49m\u001b[43mop_name\u001b[49m\u001b[43m,\u001b[49m\n\u001b[0;32m     54\u001b[0m \u001b[43m                                      \u001b[49m\u001b[43minputs\u001b[49m\u001b[43m,\u001b[49m\u001b[43m \u001b[49m\u001b[43mattrs\u001b[49m\u001b[43m,\u001b[49m\u001b[43m \u001b[49m\u001b[43mnum_outputs\u001b[49m\u001b[43m)\u001b[49m\n\u001b[0;32m     55\u001b[0m \u001b[38;5;28;01mexcept\u001b[39;00m core\u001b[38;5;241m.\u001b[39m_NotOkStatusException \u001b[38;5;28;01mas\u001b[39;00m e:\n\u001b[0;32m     56\u001b[0m   \u001b[38;5;28;01mif\u001b[39;00m name \u001b[38;5;129;01mis\u001b[39;00m \u001b[38;5;129;01mnot\u001b[39;00m \u001b[38;5;28;01mNone\u001b[39;00m:\n",
      "\u001b[1;31mKeyboardInterrupt\u001b[0m: "
     ]
    }
   ],
   "source": [
    "epoch=50\n",
    "model.fit(x={'input_ids':X_train['input_ids'],'attention_mask':X_train['attention_mask']},\n",
    "         y=Y,\n",
    "         epochs=epoch,\n",
    "          batch_size=36\n",
    "         )\n",
    "epochs+=epoch"
   ]
  },
  {
   "cell_type": "code",
   "execution_count": 92,
   "id": "da2ed3e9",
   "metadata": {},
   "outputs": [
    {
     "data": {
      "text/plain": [
       "91"
      ]
     },
     "execution_count": 92,
     "metadata": {},
     "output_type": "execute_result"
    }
   ],
   "source": [
    "epochs"
   ]
  },
  {
   "cell_type": "code",
   "execution_count": 114,
   "id": "32969117",
   "metadata": {},
   "outputs": [
    {
     "data": {
      "text/html": [
       "<div>\n",
       "<style scoped>\n",
       "    .dataframe tbody tr th:only-of-type {\n",
       "        vertical-align: middle;\n",
       "    }\n",
       "\n",
       "    .dataframe tbody tr th {\n",
       "        vertical-align: top;\n",
       "    }\n",
       "\n",
       "    .dataframe thead th {\n",
       "        text-align: right;\n",
       "    }\n",
       "</style>\n",
       "<table border=\"1\" class=\"dataframe\">\n",
       "  <thead>\n",
       "    <tr style=\"text-align: right;\">\n",
       "      <th></th>\n",
       "      <th>id</th>\n",
       "      <th>Text</th>\n",
       "    </tr>\n",
       "  </thead>\n",
       "  <tbody>\n",
       "    <tr>\n",
       "      <th>0</th>\n",
       "      <td>0</td>\n",
       "      <td>I'm worried about the impact of panic on my re...</td>\n",
       "    </tr>\n",
       "    <tr>\n",
       "      <th>1</th>\n",
       "      <td>1</td>\n",
       "      <td>Trying to maintain my equilibrium when emotion...</td>\n",
       "    </tr>\n",
       "    <tr>\n",
       "      <th>2</th>\n",
       "      <td>2</td>\n",
       "      <td>Feeling like I'm in a constant struggle to fin...</td>\n",
       "    </tr>\n",
       "    <tr>\n",
       "      <th>3</th>\n",
       "      <td>3</td>\n",
       "      <td>I'm quick to dismiss others' opinions as less ...</td>\n",
       "    </tr>\n",
       "    <tr>\n",
       "      <th>4</th>\n",
       "      <td>4</td>\n",
       "      <td>I hate the person I become when I'm consumed b...</td>\n",
       "    </tr>\n",
       "    <tr>\n",
       "      <th>...</th>\n",
       "      <td>...</td>\n",
       "      <td>...</td>\n",
       "    </tr>\n",
       "    <tr>\n",
       "      <th>238</th>\n",
       "      <td>238</td>\n",
       "      <td>The pressure to avoid mistakes can keep me fro...</td>\n",
       "    </tr>\n",
       "    <tr>\n",
       "      <th>239</th>\n",
       "      <td>239</td>\n",
       "      <td>Even when challenges arise, I remain unwaverin...</td>\n",
       "    </tr>\n",
       "    <tr>\n",
       "      <th>240</th>\n",
       "      <td>240</td>\n",
       "      <td>It's like my mind is a radio tuned to the freq...</td>\n",
       "    </tr>\n",
       "    <tr>\n",
       "      <th>241</th>\n",
       "      <td>241</td>\n",
       "      <td>It's hard to explain the surge of panic that c...</td>\n",
       "    </tr>\n",
       "    <tr>\n",
       "      <th>242</th>\n",
       "      <td>242</td>\n",
       "      <td>It's hard to explain the inner conflict of man...</td>\n",
       "    </tr>\n",
       "  </tbody>\n",
       "</table>\n",
       "<p>243 rows × 2 columns</p>\n",
       "</div>"
      ],
      "text/plain": [
       "      id                                               Text\n",
       "0      0  I'm worried about the impact of panic on my re...\n",
       "1      1  Trying to maintain my equilibrium when emotion...\n",
       "2      2  Feeling like I'm in a constant struggle to fin...\n",
       "3      3  I'm quick to dismiss others' opinions as less ...\n",
       "4      4  I hate the person I become when I'm consumed b...\n",
       "..   ...                                                ...\n",
       "238  238  The pressure to avoid mistakes can keep me fro...\n",
       "239  239  Even when challenges arise, I remain unwaverin...\n",
       "240  240  It's like my mind is a radio tuned to the freq...\n",
       "241  241  It's hard to explain the surge of panic that c...\n",
       "242  242  It's hard to explain the inner conflict of man...\n",
       "\n",
       "[243 rows x 2 columns]"
      ]
     },
     "execution_count": 114,
     "metadata": {},
     "output_type": "execute_result"
    }
   ],
   "source": [
    "test = pd.read_csv(\"test.csv\")\n",
    "test"
   ]
  },
  {
   "cell_type": "code",
   "execution_count": 115,
   "id": "1a247c11",
   "metadata": {},
   "outputs": [],
   "source": [
    "Text = tokenizer(\n",
    "    text = test['Text'].tolist(),\n",
    "    add_special_tokens=True,\n",
    "    max_length=26,\n",
    "    truncation=True,\n",
    "    return_tensors='tf',\n",
    "    return_token_type_ids=False,\n",
    "    return_attention_mask=True,\n",
    "    verbose=True,\n",
    "    padding='max_length'\n",
    ")"
   ]
  },
  {
   "cell_type": "code",
   "execution_count": 116,
   "id": "876f270b",
   "metadata": {},
   "outputs": [
    {
     "data": {
      "text/plain": [
       "<tf.Tensor: shape=(243, 26), dtype=int32, numpy=\n",
       "array([[  101,   146,   112, ...,     0,     0,     0],\n",
       "       [  101, 19020,  1106, ...,     0,     0,     0],\n",
       "       [  101, 13085,  1176, ...,     0,     0,     0],\n",
       "       ...,\n",
       "       [  101,  1135,   112, ...,     0,     0,     0],\n",
       "       [  101,  1135,   112, ...,     0,     0,     0],\n",
       "       [  101,  1135,   112, ...,     0,     0,     0]])>"
      ]
     },
     "execution_count": 116,
     "metadata": {},
     "output_type": "execute_result"
    }
   ],
   "source": [
    "Text['input_ids']"
   ]
  },
  {
   "cell_type": "code",
   "execution_count": 117,
   "id": "80fe66b6",
   "metadata": {},
   "outputs": [
    {
     "name": "stdout",
     "output_type": "stream",
     "text": [
      "8/8 [==============================] - 33s 3s/step\n"
     ]
    },
    {
     "data": {
      "text/plain": [
       "array([[2.8101492e-06, 5.0888357e-05, 9.9986196e-01, 6.8223941e-05,\n",
       "        1.6038011e-05],\n",
       "       [8.4649218e-06, 2.4703340e-07, 2.9002297e-07, 9.9996936e-01,\n",
       "        2.1696605e-05],\n",
       "       [2.6162170e-06, 3.2691940e-05, 7.5026278e-06, 1.5292717e-06,\n",
       "        9.9995565e-01],\n",
       "       ...,\n",
       "       [1.9056872e-05, 9.9873358e-01, 1.1990421e-03, 1.8464565e-05,\n",
       "        2.9831504e-05],\n",
       "       [3.8530590e-05, 9.9819499e-01, 1.6784118e-03, 3.6616697e-05,\n",
       "        5.1412666e-05],\n",
       "       [3.6207286e-03, 5.4287932e-05, 3.0200978e-05, 9.9528509e-01,\n",
       "        1.0097342e-03]], dtype=float32)"
      ]
     },
     "execution_count": 117,
     "metadata": {},
     "output_type": "execute_result"
    }
   ],
   "source": [
    "y_pred=model.predict({'input_ids':Text['input_ids'],'attention_mask':Text['attention_mask']})\n",
    "y_pred"
   ]
  },
  {
   "cell_type": "code",
   "execution_count": 97,
   "id": "6847fbed",
   "metadata": {},
   "outputs": [],
   "source": [
    "import numpy as np"
   ]
  },
  {
   "cell_type": "code",
   "execution_count": 118,
   "id": "4bfa0469",
   "metadata": {},
   "outputs": [
    {
     "data": {
      "text/plain": [
       "array([2, 3, 4, 4, 3, 4, 4, 3, 2, 4, 0, 1, 3, 2, 4, 1, 3, 2, 0, 2, 1, 0,\n",
       "       3, 0, 1, 3, 4, 2, 0, 3, 4, 3, 4, 2, 1, 0, 0, 0, 4, 3, 4, 4, 2, 3,\n",
       "       2, 1, 0, 2, 4, 0, 3, 4, 0, 0, 0, 1, 4, 4, 3, 2, 4, 0, 2, 1, 1, 0,\n",
       "       4, 2, 0, 2, 4, 0, 0, 1, 2, 4, 2, 2, 4, 0, 0, 1, 1, 3, 2, 4, 1, 3,\n",
       "       4, 0, 1, 4, 1, 1, 0, 0, 2, 2, 2, 0, 4, 3, 4, 1, 3, 4, 0, 0, 2, 4,\n",
       "       2, 0, 1, 1, 4, 3, 4, 0, 3, 1, 1, 3, 1, 1, 3, 3, 0, 1, 1, 1, 1, 3,\n",
       "       2, 4, 3, 2, 4, 1, 1, 0, 4, 0, 1, 2, 1, 3, 4, 1, 0, 1, 0, 1, 1, 3,\n",
       "       1, 1, 0, 1, 3, 4, 2, 2, 0, 0, 2, 1, 3, 0, 1, 3, 0, 1, 1, 0, 0, 3,\n",
       "       3, 1, 0, 3, 0, 0, 2, 0, 4, 1, 3, 0, 4, 4, 4, 0, 1, 2, 4, 2, 2, 3,\n",
       "       0, 0, 4, 2, 3, 3, 0, 2, 1, 1, 4, 3, 0, 4, 0, 4, 4, 3, 1, 4, 0, 1,\n",
       "       4, 2, 0, 0, 0, 1, 1, 0, 3, 2, 2, 4, 4, 2, 2, 0, 0, 2, 1, 4, 1, 1,\n",
       "       3], dtype=int64)"
      ]
     },
     "execution_count": 118,
     "metadata": {},
     "output_type": "execute_result"
    }
   ],
   "source": [
    "Y_pred = np.argmax(y_pred,axis=1)\n",
    "Y_pred"
   ]
  },
  {
   "cell_type": "code",
   "execution_count": 119,
   "id": "b75575bc",
   "metadata": {},
   "outputs": [
    {
     "data": {
      "text/plain": [
       "['Panic Disorder',\n",
       " 'Anger/ Intermittent Explosive Disorder',\n",
       " 'Narcissistic Disorder',\n",
       " 'Narcissistic Disorder',\n",
       " 'Anger/ Intermittent Explosive Disorder',\n",
       " 'Narcissistic Disorder',\n",
       " 'Narcissistic Disorder',\n",
       " 'Anger/ Intermittent Explosive Disorder',\n",
       " 'Panic Disorder',\n",
       " 'Narcissistic Disorder',\n",
       " 'Depression',\n",
       " 'Anxiety Disorder',\n",
       " 'Anger/ Intermittent Explosive Disorder',\n",
       " 'Panic Disorder',\n",
       " 'Narcissistic Disorder',\n",
       " 'Anxiety Disorder',\n",
       " 'Anger/ Intermittent Explosive Disorder',\n",
       " 'Panic Disorder',\n",
       " 'Depression',\n",
       " 'Panic Disorder',\n",
       " 'Anxiety Disorder',\n",
       " 'Depression',\n",
       " 'Anger/ Intermittent Explosive Disorder',\n",
       " 'Depression',\n",
       " 'Anxiety Disorder',\n",
       " 'Anger/ Intermittent Explosive Disorder',\n",
       " 'Narcissistic Disorder',\n",
       " 'Panic Disorder',\n",
       " 'Depression',\n",
       " 'Anger/ Intermittent Explosive Disorder',\n",
       " 'Narcissistic Disorder',\n",
       " 'Anger/ Intermittent Explosive Disorder',\n",
       " 'Narcissistic Disorder',\n",
       " 'Panic Disorder',\n",
       " 'Anxiety Disorder',\n",
       " 'Depression',\n",
       " 'Depression',\n",
       " 'Depression',\n",
       " 'Narcissistic Disorder',\n",
       " 'Anger/ Intermittent Explosive Disorder',\n",
       " 'Narcissistic Disorder',\n",
       " 'Narcissistic Disorder',\n",
       " 'Panic Disorder',\n",
       " 'Anger/ Intermittent Explosive Disorder',\n",
       " 'Panic Disorder',\n",
       " 'Anxiety Disorder',\n",
       " 'Depression',\n",
       " 'Panic Disorder',\n",
       " 'Narcissistic Disorder',\n",
       " 'Depression',\n",
       " 'Anger/ Intermittent Explosive Disorder',\n",
       " 'Narcissistic Disorder',\n",
       " 'Depression',\n",
       " 'Depression',\n",
       " 'Depression',\n",
       " 'Anxiety Disorder',\n",
       " 'Narcissistic Disorder',\n",
       " 'Narcissistic Disorder',\n",
       " 'Anger/ Intermittent Explosive Disorder',\n",
       " 'Panic Disorder',\n",
       " 'Narcissistic Disorder',\n",
       " 'Depression',\n",
       " 'Panic Disorder',\n",
       " 'Anxiety Disorder',\n",
       " 'Anxiety Disorder',\n",
       " 'Depression',\n",
       " 'Narcissistic Disorder',\n",
       " 'Panic Disorder',\n",
       " 'Depression',\n",
       " 'Panic Disorder',\n",
       " 'Narcissistic Disorder',\n",
       " 'Depression',\n",
       " 'Depression',\n",
       " 'Anxiety Disorder',\n",
       " 'Panic Disorder',\n",
       " 'Narcissistic Disorder',\n",
       " 'Panic Disorder',\n",
       " 'Panic Disorder',\n",
       " 'Narcissistic Disorder',\n",
       " 'Depression',\n",
       " 'Depression',\n",
       " 'Anxiety Disorder',\n",
       " 'Anxiety Disorder',\n",
       " 'Anger/ Intermittent Explosive Disorder',\n",
       " 'Panic Disorder',\n",
       " 'Narcissistic Disorder',\n",
       " 'Anxiety Disorder',\n",
       " 'Anger/ Intermittent Explosive Disorder',\n",
       " 'Narcissistic Disorder',\n",
       " 'Depression',\n",
       " 'Anxiety Disorder',\n",
       " 'Narcissistic Disorder',\n",
       " 'Anxiety Disorder',\n",
       " 'Anxiety Disorder',\n",
       " 'Depression',\n",
       " 'Depression',\n",
       " 'Panic Disorder',\n",
       " 'Panic Disorder',\n",
       " 'Panic Disorder',\n",
       " 'Depression',\n",
       " 'Narcissistic Disorder',\n",
       " 'Anger/ Intermittent Explosive Disorder',\n",
       " 'Narcissistic Disorder',\n",
       " 'Anxiety Disorder',\n",
       " 'Anger/ Intermittent Explosive Disorder',\n",
       " 'Narcissistic Disorder',\n",
       " 'Depression',\n",
       " 'Depression',\n",
       " 'Panic Disorder',\n",
       " 'Narcissistic Disorder',\n",
       " 'Panic Disorder',\n",
       " 'Depression',\n",
       " 'Anxiety Disorder',\n",
       " 'Anxiety Disorder',\n",
       " 'Narcissistic Disorder',\n",
       " 'Anger/ Intermittent Explosive Disorder',\n",
       " 'Narcissistic Disorder',\n",
       " 'Depression',\n",
       " 'Anger/ Intermittent Explosive Disorder',\n",
       " 'Anxiety Disorder',\n",
       " 'Anxiety Disorder',\n",
       " 'Anger/ Intermittent Explosive Disorder',\n",
       " 'Anxiety Disorder',\n",
       " 'Anxiety Disorder',\n",
       " 'Anger/ Intermittent Explosive Disorder',\n",
       " 'Anger/ Intermittent Explosive Disorder',\n",
       " 'Depression',\n",
       " 'Anxiety Disorder',\n",
       " 'Anxiety Disorder',\n",
       " 'Anxiety Disorder',\n",
       " 'Anxiety Disorder',\n",
       " 'Anger/ Intermittent Explosive Disorder',\n",
       " 'Panic Disorder',\n",
       " 'Narcissistic Disorder',\n",
       " 'Anger/ Intermittent Explosive Disorder',\n",
       " 'Panic Disorder',\n",
       " 'Narcissistic Disorder',\n",
       " 'Anxiety Disorder',\n",
       " 'Anxiety Disorder',\n",
       " 'Depression',\n",
       " 'Narcissistic Disorder',\n",
       " 'Depression',\n",
       " 'Anxiety Disorder',\n",
       " 'Panic Disorder',\n",
       " 'Anxiety Disorder',\n",
       " 'Anger/ Intermittent Explosive Disorder',\n",
       " 'Narcissistic Disorder',\n",
       " 'Anxiety Disorder',\n",
       " 'Depression',\n",
       " 'Anxiety Disorder',\n",
       " 'Depression',\n",
       " 'Anxiety Disorder',\n",
       " 'Anxiety Disorder',\n",
       " 'Anger/ Intermittent Explosive Disorder',\n",
       " 'Anxiety Disorder',\n",
       " 'Anxiety Disorder',\n",
       " 'Depression',\n",
       " 'Anxiety Disorder',\n",
       " 'Anger/ Intermittent Explosive Disorder',\n",
       " 'Narcissistic Disorder',\n",
       " 'Panic Disorder',\n",
       " 'Panic Disorder',\n",
       " 'Depression',\n",
       " 'Depression',\n",
       " 'Panic Disorder',\n",
       " 'Anxiety Disorder',\n",
       " 'Anger/ Intermittent Explosive Disorder',\n",
       " 'Depression',\n",
       " 'Anxiety Disorder',\n",
       " 'Anger/ Intermittent Explosive Disorder',\n",
       " 'Depression',\n",
       " 'Anxiety Disorder',\n",
       " 'Anxiety Disorder',\n",
       " 'Depression',\n",
       " 'Depression',\n",
       " 'Anger/ Intermittent Explosive Disorder',\n",
       " 'Anger/ Intermittent Explosive Disorder',\n",
       " 'Anxiety Disorder',\n",
       " 'Depression',\n",
       " 'Anger/ Intermittent Explosive Disorder',\n",
       " 'Depression',\n",
       " 'Depression',\n",
       " 'Panic Disorder',\n",
       " 'Depression',\n",
       " 'Narcissistic Disorder',\n",
       " 'Anxiety Disorder',\n",
       " 'Anger/ Intermittent Explosive Disorder',\n",
       " 'Depression',\n",
       " 'Narcissistic Disorder',\n",
       " 'Narcissistic Disorder',\n",
       " 'Narcissistic Disorder',\n",
       " 'Depression',\n",
       " 'Anxiety Disorder',\n",
       " 'Panic Disorder',\n",
       " 'Narcissistic Disorder',\n",
       " 'Panic Disorder',\n",
       " 'Panic Disorder',\n",
       " 'Anger/ Intermittent Explosive Disorder',\n",
       " 'Depression',\n",
       " 'Depression',\n",
       " 'Narcissistic Disorder',\n",
       " 'Panic Disorder',\n",
       " 'Anger/ Intermittent Explosive Disorder',\n",
       " 'Anger/ Intermittent Explosive Disorder',\n",
       " 'Depression',\n",
       " 'Panic Disorder',\n",
       " 'Anxiety Disorder',\n",
       " 'Anxiety Disorder',\n",
       " 'Narcissistic Disorder',\n",
       " 'Anger/ Intermittent Explosive Disorder',\n",
       " 'Depression',\n",
       " 'Narcissistic Disorder',\n",
       " 'Depression',\n",
       " 'Narcissistic Disorder',\n",
       " 'Narcissistic Disorder',\n",
       " 'Anger/ Intermittent Explosive Disorder',\n",
       " 'Anxiety Disorder',\n",
       " 'Narcissistic Disorder',\n",
       " 'Depression',\n",
       " 'Anxiety Disorder',\n",
       " 'Narcissistic Disorder',\n",
       " 'Panic Disorder',\n",
       " 'Depression',\n",
       " 'Depression',\n",
       " 'Depression',\n",
       " 'Anxiety Disorder',\n",
       " 'Anxiety Disorder',\n",
       " 'Depression',\n",
       " 'Anger/ Intermittent Explosive Disorder',\n",
       " 'Panic Disorder',\n",
       " 'Panic Disorder',\n",
       " 'Narcissistic Disorder',\n",
       " 'Narcissistic Disorder',\n",
       " 'Panic Disorder',\n",
       " 'Panic Disorder',\n",
       " 'Depression',\n",
       " 'Depression',\n",
       " 'Panic Disorder',\n",
       " 'Anxiety Disorder',\n",
       " 'Narcissistic Disorder',\n",
       " 'Anxiety Disorder',\n",
       " 'Anxiety Disorder',\n",
       " 'Anger/ Intermittent Explosive Disorder']"
      ]
     },
     "execution_count": 119,
     "metadata": {},
     "output_type": "execute_result"
    }
   ],
   "source": [
    "predictions = [Label[i] for i in Y_pred]\n",
    "predictions"
   ]
  },
  {
   "cell_type": "code",
   "execution_count": 120,
   "id": "6109ed57",
   "metadata": {},
   "outputs": [
    {
     "data": {
      "text/html": [
       "<div>\n",
       "<style scoped>\n",
       "    .dataframe tbody tr th:only-of-type {\n",
       "        vertical-align: middle;\n",
       "    }\n",
       "\n",
       "    .dataframe tbody tr th {\n",
       "        vertical-align: top;\n",
       "    }\n",
       "\n",
       "    .dataframe thead th {\n",
       "        text-align: right;\n",
       "    }\n",
       "</style>\n",
       "<table border=\"1\" class=\"dataframe\">\n",
       "  <thead>\n",
       "    <tr style=\"text-align: right;\">\n",
       "      <th></th>\n",
       "      <th>id</th>\n",
       "      <th>label</th>\n",
       "    </tr>\n",
       "  </thead>\n",
       "  <tbody>\n",
       "    <tr>\n",
       "      <th>0</th>\n",
       "      <td>0</td>\n",
       "      <td>Panic Disorder</td>\n",
       "    </tr>\n",
       "    <tr>\n",
       "      <th>1</th>\n",
       "      <td>1</td>\n",
       "      <td>Anger/ Intermittent Explosive Disorder</td>\n",
       "    </tr>\n",
       "    <tr>\n",
       "      <th>2</th>\n",
       "      <td>2</td>\n",
       "      <td>Narcissistic Disorder</td>\n",
       "    </tr>\n",
       "    <tr>\n",
       "      <th>3</th>\n",
       "      <td>3</td>\n",
       "      <td>Narcissistic Disorder</td>\n",
       "    </tr>\n",
       "    <tr>\n",
       "      <th>4</th>\n",
       "      <td>4</td>\n",
       "      <td>Anger/ Intermittent Explosive Disorder</td>\n",
       "    </tr>\n",
       "    <tr>\n",
       "      <th>...</th>\n",
       "      <td>...</td>\n",
       "      <td>...</td>\n",
       "    </tr>\n",
       "    <tr>\n",
       "      <th>238</th>\n",
       "      <td>238</td>\n",
       "      <td>Anxiety Disorder</td>\n",
       "    </tr>\n",
       "    <tr>\n",
       "      <th>239</th>\n",
       "      <td>239</td>\n",
       "      <td>Narcissistic Disorder</td>\n",
       "    </tr>\n",
       "    <tr>\n",
       "      <th>240</th>\n",
       "      <td>240</td>\n",
       "      <td>Anxiety Disorder</td>\n",
       "    </tr>\n",
       "    <tr>\n",
       "      <th>241</th>\n",
       "      <td>241</td>\n",
       "      <td>Anxiety Disorder</td>\n",
       "    </tr>\n",
       "    <tr>\n",
       "      <th>242</th>\n",
       "      <td>242</td>\n",
       "      <td>Anger/ Intermittent Explosive Disorder</td>\n",
       "    </tr>\n",
       "  </tbody>\n",
       "</table>\n",
       "<p>243 rows × 2 columns</p>\n",
       "</div>"
      ],
      "text/plain": [
       "      id                                   label\n",
       "0      0                          Panic Disorder\n",
       "1      1  Anger/ Intermittent Explosive Disorder\n",
       "2      2                   Narcissistic Disorder\n",
       "3      3                   Narcissistic Disorder\n",
       "4      4  Anger/ Intermittent Explosive Disorder\n",
       "..   ...                                     ...\n",
       "238  238                        Anxiety Disorder\n",
       "239  239                   Narcissistic Disorder\n",
       "240  240                        Anxiety Disorder\n",
       "241  241                        Anxiety Disorder\n",
       "242  242  Anger/ Intermittent Explosive Disorder\n",
       "\n",
       "[243 rows x 2 columns]"
      ]
     },
     "execution_count": 120,
     "metadata": {},
     "output_type": "execute_result"
    }
   ],
   "source": [
    "final = pd.DataFrame()\n",
    "final['id'] = test['id']\n",
    "final['label'] = predictions\n",
    "final"
   ]
  },
  {
   "cell_type": "code",
   "execution_count": 121,
   "id": "5e9ad23b",
   "metadata": {},
   "outputs": [],
   "source": [
    "final.to_csv('final6.csv',index=False)"
   ]
  },
  {
   "cell_type": "code",
   "execution_count": null,
   "id": "42dd09d3",
   "metadata": {},
   "outputs": [],
   "source": []
  }
 ],
 "metadata": {
  "kernelspec": {
   "display_name": "Python 3 (ipykernel)",
   "language": "python",
   "name": "python3"
  },
  "language_info": {
   "codemirror_mode": {
    "name": "ipython",
    "version": 3
   },
   "file_extension": ".py",
   "mimetype": "text/x-python",
   "name": "python",
   "nbconvert_exporter": "python",
   "pygments_lexer": "ipython3",
   "version": "3.10.7"
  }
 },
 "nbformat": 4,
 "nbformat_minor": 5
}
